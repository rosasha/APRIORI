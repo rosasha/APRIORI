{
 "cells": [
  {
   "cell_type": "code",
   "execution_count": 1,
   "metadata": {
    "ExecuteTime": {
     "end_time": "2021-02-09T14:57:07.310199Z",
     "start_time": "2021-02-09T14:57:06.934199Z"
    }
   },
   "outputs": [],
   "source": [
    "import pandas as pd\n",
    "import numpy as np"
   ]
  },
  {
   "cell_type": "code",
   "execution_count": 2,
   "metadata": {
    "ExecuteTime": {
     "end_time": "2021-02-09T14:57:07.847199Z",
     "start_time": "2021-02-09T14:57:07.837199Z"
    }
   },
   "outputs": [],
   "source": [
    "from ftplib import FTP  "
   ]
  },
  {
   "cell_type": "code",
   "execution_count": 4,
   "metadata": {
    "ExecuteTime": {
     "end_time": "2021-02-09T14:57:46.861199Z",
     "start_time": "2021-02-09T14:57:46.623199Z"
    }
   },
   "outputs": [
    {
     "data": {
      "text/plain": [
       "'230 User ISK\\\\a.mochalov logged in.'"
      ]
     },
     "execution_count": 4,
     "metadata": {},
     "output_type": "execute_result"
    }
   ],
   "source": [
    "ftp = FTP('192.168.50.48')\n",
    "ftp.login('A.Mochalov','Fktrcfylh1!40')\n",
    "#encoding = 'cp1251'"
   ]
  },
  {
   "cell_type": "code",
   "execution_count": 5,
   "metadata": {
    "ExecuteTime": {
     "end_time": "2021-02-09T14:57:56.790199Z",
     "start_time": "2021-02-09T14:57:48.303199Z"
    }
   },
   "outputs": [
    {
     "data": {
      "text/plain": [
       "'250 CWD command successful.'"
      ]
     },
     "execution_count": 5,
     "metadata": {},
     "output_type": "execute_result"
    }
   ],
   "source": [
    "ftp.cwd('/IT_obmen/Mochalov') "
   ]
  },
  {
   "cell_type": "code",
   "execution_count": 6,
   "metadata": {
    "ExecuteTime": {
     "end_time": "2021-02-09T14:57:58.929199Z",
     "start_time": "2021-02-09T14:57:58.926199Z"
    }
   },
   "outputs": [],
   "source": [
    "file_name = 'MLmin_maks.csv'  "
   ]
  },
  {
   "cell_type": "code",
   "execution_count": 7,
   "metadata": {
    "ExecuteTime": {
     "end_time": "2021-02-09T14:58:01.209199Z",
     "start_time": "2021-02-09T14:58:01.205199Z"
    }
   },
   "outputs": [],
   "source": [
    "# ftp.storbinary('STOR ' + file_name, open(file_name, 'rb'))  "
   ]
  },
  {
   "cell_type": "code",
   "execution_count": 8,
   "metadata": {
    "ExecuteTime": {
     "end_time": "2021-02-09T14:58:03.545199Z",
     "start_time": "2021-02-09T14:58:03.182199Z"
    }
   },
   "outputs": [],
   "source": [
    "with open(file_name, 'rb') as fobj:\n",
    "            ftp.storbinary('STOR ' + file_name, fobj)"
   ]
  },
  {
   "cell_type": "code",
   "execution_count": 9,
   "metadata": {
    "ExecuteTime": {
     "end_time": "2021-02-09T14:58:05.598199Z",
     "start_time": "2021-02-09T14:58:05.590199Z"
    }
   },
   "outputs": [
    {
     "name": "stdout",
     "output_type": "stream",
     "text": [
      "utf-8\n",
      "cp1251\n"
     ]
    }
   ],
   "source": [
    "import sys\n",
    "import locale\n",
    "\n",
    "print(sys.getfilesystemencoding())\n",
    "print(locale.getpreferredencoding())"
   ]
  },
  {
   "cell_type": "code",
   "execution_count": null,
   "metadata": {},
   "outputs": [],
   "source": []
  },
  {
   "cell_type": "code",
   "execution_count": null,
   "metadata": {},
   "outputs": [],
   "source": []
  }
 ],
 "metadata": {
  "kernelspec": {
   "display_name": "Python 3",
   "language": "python",
   "name": "python3"
  },
  "language_info": {
   "codemirror_mode": {
    "name": "ipython",
    "version": 3
   },
   "file_extension": ".py",
   "mimetype": "text/x-python",
   "name": "python",
   "nbconvert_exporter": "python",
   "pygments_lexer": "ipython3",
   "version": "3.7.3"
  }
 },
 "nbformat": 4,
 "nbformat_minor": 4
}
